{
 "cells": [
  {
   "cell_type": "code",
   "execution_count": 1,
   "metadata": {
    "ExecuteTime": {
     "end_time": "2020-12-05T16:01:47.507639Z",
     "start_time": "2020-12-05T16:01:45.812123Z"
    }
   },
   "outputs": [],
   "source": [
    "#import libraries and packages\n",
    "\n",
    "from gurobipy import *\n",
    "import numpy as np\n",
    "import csv\n",
    "import os\n",
    "import matplotlib.pyplot as plt\n",
    "import seaborn as sns"
   ]
  },
  {
   "cell_type": "code",
   "execution_count": 2,
   "metadata": {
    "ExecuteTime": {
     "end_time": "2020-12-05T16:01:47.513273Z",
     "start_time": "2020-12-05T16:01:47.509641Z"
    }
   },
   "outputs": [],
   "source": [
    "# get current working directory \n",
    "path = os.getcwd()"
   ]
  },
  {
   "cell_type": "code",
   "execution_count": 3,
   "metadata": {
    "ExecuteTime": {
     "end_time": "2020-12-05T16:01:47.558111Z",
     "start_time": "2020-12-05T16:01:47.525255Z"
    }
   },
   "outputs": [],
   "source": [
    "# import tracts, pods, and distances\n",
    "\n",
    "with open(path+'/tracts.csv', 'r', encoding='utf-8-sig') as f: \n",
    "    tracts = np.genfromtxt(f, dtype=float, delimiter=',') # residential areas\n",
    "    \n",
    "with open(path+'/pods.csv', 'r', encoding='utf-8-sig') as f: \n",
    "    pods = np.genfromtxt(f, dtype=float, delimiter=',') # sites\n",
    "    \n",
    "with open(path+'/dists.csv', 'r', encoding='utf-8-sig') as f: \n",
    "    dists = np.genfromtxt(f, dtype=float, delimiter=',')"
   ]
  },
  {
   "cell_type": "code",
   "execution_count": 4,
   "metadata": {
    "ExecuteTime": {
     "end_time": "2020-12-05T16:01:47.563848Z",
     "start_time": "2020-12-05T16:01:47.560757Z"
    }
   },
   "outputs": [],
   "source": [
    "# capacity = np.sum(pods[:,2]) #total capacity of all pods\n",
    "popTotal = np.sum(tracts[:,2]) # total population in Allegheny County\n",
    "\n",
    "residents = tracts[:,2] # population of tracts\n",
    "capacity = pods[:,2] # capacity of pods"
   ]
  },
  {
   "cell_type": "code",
   "execution_count": 5,
   "metadata": {
    "ExecuteTime": {
     "end_time": "2020-12-05T16:01:47.575483Z",
     "start_time": "2020-12-05T16:01:47.570318Z"
    }
   },
   "outputs": [],
   "source": [
    "# indices for tracts and pods\n",
    "p = len(tracts) #census tracts\n",
    "q = len(pods) #pods\n",
    "\n",
    "n_tracts = range(p) # number of tracts\n",
    "n_pods = range(q) # number of pods\n",
    "\n",
    "P = 20 #number of pods that can be built (subject to change)\n",
    "I = .1 #proportion of population at each tract to be served (subject to change)"
   ]
  },
  {
   "cell_type": "code",
   "execution_count": 6,
   "metadata": {
    "ExecuteTime": {
     "end_time": "2020-12-05T16:01:47.592653Z",
     "start_time": "2020-12-05T16:01:47.579222Z"
    }
   },
   "outputs": [
    {
     "name": "stdout",
     "output_type": "stream",
     "text": [
      "Using license file /Users/prastha/gurobi.lic\n",
      "Academic license - for non-commercial use only - expires 2021-01-29\n"
     ]
    }
   ],
   "source": [
    "# setting up model object\n",
    "\n",
    "m = Model(\"Assignments\")"
   ]
  },
  {
   "cell_type": "code",
   "execution_count": 7,
   "metadata": {
    "ExecuteTime": {
     "end_time": "2020-12-05T16:01:47.711049Z",
     "start_time": "2020-12-05T16:01:47.595394Z"
    }
   },
   "outputs": [],
   "source": [
    "# setting up the decision variables\n",
    "\n",
    "# where to build the pods\n",
    "x = m.addVars(n_pods, vtype=GRB.BINARY) #1 if pod j is built\n",
    "\n",
    "# where to assign which tracts to which pods\n",
    "y = m.addVars(n_tracts, n_pods, vtype=GRB.BINARY) #1 if area i assigned to pod j"
   ]
  },
  {
   "cell_type": "code",
   "execution_count": 8,
   "metadata": {
    "ExecuteTime": {
     "end_time": "2020-12-05T16:01:48.494326Z",
     "start_time": "2020-12-05T16:01:47.719820Z"
    }
   },
   "outputs": [],
   "source": [
    "# Objective Function\n",
    "\n",
    "objFn = LinExpr()\n",
    "\n",
    "objFn += sum(sum(dists[i,j] * y[i,j] * (residents[i]) for i in n_tracts) for j in n_pods)\n",
    "#\n",
    "m.setObjective(objFn)\n",
    "\n",
    "m.modelSense = GRB.MINIMIZE"
   ]
  },
  {
   "cell_type": "code",
   "execution_count": 9,
   "metadata": {
    "ExecuteTime": {
     "end_time": "2020-12-05T16:01:49.403151Z",
     "start_time": "2020-12-05T16:01:48.497796Z"
    }
   },
   "outputs": [],
   "source": [
    "# Constraints\n",
    "\n",
    "# number of total sites that we could build\n",
    "m.addConstr(sum(x[j] for j in n_pods) <= P) \n",
    "\n",
    "# capacity constraints\n",
    "for j in n_pods:\n",
    "    m.addConstr(sum(residents[i] * y[i,j] for i in n_tracts) <= 30 * 2 * capacity[j] * x[j]) \n",
    "\n",
    "# a residential can have at most one shelter\n",
    "for i in n_tracts:\n",
    "    m.addConstr(sum(y[i,j] for j in n_pods) == 1) \n",
    "\n",
    "# all residential areas must be met\n",
    "m.addConstr(sum(sum(y[i,j] for j in n_pods) for i in n_tracts) >= len(residents)) \n",
    "\n",
    "# a tract can only be assigned to a pod that as been built\n",
    "for i in n_tracts:\n",
    "    for j in n_pods:\n",
    "        m.addConstr(x[j] - y[i,j] >= 0)"
   ]
  },
  {
   "cell_type": "code",
   "execution_count": 10,
   "metadata": {
    "ExecuteTime": {
     "end_time": "2020-12-05T16:01:52.799884Z",
     "start_time": "2020-12-05T16:01:49.405366Z"
    }
   },
   "outputs": [
    {
     "name": "stdout",
     "output_type": "stream",
     "text": [
      "Gurobi Optimizer version 9.1.0 build v9.1.0rc0 (mac64)\n",
      "Thread count: 4 physical cores, 8 logical processors, using up to 8 threads\n",
      "Optimize a model with 19345 rows, 18941 columns and 94329 nonzeros\n",
      "Model fingerprint: 0xf1fe4f08\n",
      "Variable types: 0 continuous, 18941 integer (18941 binary)\n",
      "Coefficient statistics:\n",
      "  Matrix range     [1e+00, 2e+05]\n",
      "  Objective range  [6e-01, 3e+05]\n",
      "  Bounds range     [1e+00, 1e+00]\n",
      "  RHS range        [1e+00, 4e+02]\n",
      "Presolve removed 1 rows and 0 columns\n",
      "Presolve time: 0.19s\n",
      "Presolved: 19344 rows, 18941 columns, 75435 nonzeros\n",
      "Variable types: 0 continuous, 18941 integer (18941 binary)\n",
      "Found heuristic solution: objective 8689091.0254\n",
      "\n",
      "Root relaxation: objective 2.706997e+06, 1596 iterations, 0.22 seconds\n",
      "\n",
      "    Nodes    |    Current Node    |     Objective Bounds      |     Work\n",
      " Expl Unexpl |  Obj  Depth IntInf | Incumbent    BestBd   Gap | It/Node Time\n",
      "\n",
      "     0     0 2706997.46    0  102 8689091.03 2706997.46  68.8%     -    0s\n",
      "H    0     0                    2841787.1774 2706997.46  4.74%     -    0s\n",
      "H    0     0                    2719000.9358 2706997.46  0.44%     -    1s\n",
      "     0     0 2708416.65    0  148 2719000.94 2708416.65  0.39%     -    1s\n",
      "     0     0 2708416.65    0   92 2719000.94 2708416.65  0.39%     -    2s\n",
      "     0     0 2708416.65    0  137 2719000.94 2708416.65  0.39%     -    2s\n",
      "H    0     0                    2714057.8134 2708416.65  0.21%     -    2s\n",
      "     0     0 2708460.92    0  141 2714057.81 2708460.92  0.21%     -    2s\n",
      "H    0     0                    2713279.3710 2708460.92  0.18%     -    2s\n",
      "     0     0 2708460.92    0  143 2713279.37 2708460.92  0.18%     -    2s\n",
      "     0     0 2708726.30    0   98 2713279.37 2708726.30  0.17%     -    2s\n",
      "     0     0 2708726.30    0   60 2713279.37 2708726.30  0.17%     -    2s\n",
      "     0     0 2708829.53    0   56 2713279.37 2708829.53  0.16%     -    2s\n",
      "     0     0 2708893.16    0   83 2713279.37 2708893.16  0.16%     -    2s\n",
      "     0     0 2708893.75    0   83 2713279.37 2708893.75  0.16%     -    2s\n",
      "     0     0 2709401.58    0  123 2713279.37 2709401.58  0.14%     -    2s\n",
      "H    0     0                    2712504.5627 2709401.58  0.11%     -    2s\n",
      "     0     0 2709629.41    0  133 2712504.56 2709629.41  0.11%     -    2s\n",
      "     0     0 2709719.61    0  129 2712504.56 2709719.61  0.10%     -    2s\n",
      "H    0     0                    2712098.6116 2709719.61  0.09%     -    2s\n",
      "     0     0 2709844.23    0   80 2712098.61 2709844.23  0.08%     -    2s\n",
      "     0     0 2709844.23    0   37 2712098.61 2709844.23  0.08%     -    2s\n",
      "     0     0 2709844.23    0   63 2712098.61 2709844.23  0.08%     -    2s\n",
      "H    0     0                    2711642.2513 2709844.23  0.07%     -    2s\n",
      "     0     0 2709844.23    0   53 2711642.25 2709844.23  0.07%     -    2s\n",
      "     0     0 2709878.27    0   53 2711642.25 2709878.27  0.07%     -    2s\n",
      "     0     0 2709879.40    0   54 2711642.25 2709879.40  0.07%     -    2s\n",
      "     0     0 2710024.75    0   62 2711642.25 2710024.75  0.06%     -    2s\n",
      "     0     0 2710077.66    0   64 2711642.25 2710077.66  0.06%     -    2s\n",
      "     0     0 2710077.92    0   66 2711642.25 2710077.92  0.06%     -    2s\n",
      "     0     0 2710143.56    0   68 2711642.25 2710143.56  0.06%     -    2s\n",
      "     0     0 2710143.56    0   28 2711642.25 2710143.56  0.06%     -    2s\n",
      "     0     0 2710143.56    0   32 2711642.25 2710143.56  0.06%     -    2s\n",
      "     0     0 2710143.56    0   42 2711642.25 2710143.56  0.06%     -    2s\n",
      "     0     0 2710143.56    0   50 2711642.25 2710143.56  0.06%     -    2s\n",
      "     0     0 2710143.56    0   52 2711642.25 2710143.56  0.06%     -    2s\n",
      "     0     0 2710143.56    0   53 2711642.25 2710143.56  0.06%     -    2s\n",
      "     0     0 2710143.56    0   54 2711642.25 2710143.56  0.06%     -    2s\n",
      "     0     0 2710229.92    0   49 2711642.25 2710229.92  0.05%     -    2s\n",
      "     0     0 2710244.35    0   52 2711642.25 2710244.35  0.05%     -    2s\n",
      "     0     0 2710284.81    0   52 2711642.25 2710284.81  0.05%     -    2s\n",
      "     0     0 2710303.80    0   55 2711642.25 2710303.80  0.05%     -    2s\n",
      "     0     0 2710317.35    0   55 2711642.25 2710317.35  0.05%     -    2s\n",
      "     0     0 2710319.83    0   57 2711642.25 2710319.83  0.05%     -    2s\n",
      "     0     0 2710443.72    0   60 2711642.25 2710443.72  0.04%     -    2s\n",
      "     0     0 2710443.82    0   60 2711642.25 2710443.82  0.04%     -    2s\n",
      "     0     0 2710480.64    0   60 2711642.25 2710480.64  0.04%     -    2s\n",
      "     0     0 2710492.33    0   39 2711642.25 2710492.33  0.04%     -    3s\n",
      "     0     0 2710492.33    0   39 2711642.25 2710492.33  0.04%     -    3s\n",
      "     0     0 2710492.33    0    9 2711642.25 2710492.33  0.04%     -    3s\n",
      "     0     0 2710492.33    0   18 2711642.25 2710492.33  0.04%     -    3s\n",
      "     0     0 2710492.33    0   23 2711642.25 2710492.33  0.04%     -    3s\n",
      "     0     0 2710492.33    0   28 2711642.25 2710492.33  0.04%     -    3s\n",
      "     0     0 2710492.33    0   29 2711642.25 2710492.33  0.04%     -    3s\n",
      "     0     0 2710523.08    0   35 2711642.25 2710523.08  0.04%     -    3s\n",
      "     0     0 2710528.21    0   37 2711642.25 2710528.21  0.04%     -    3s\n",
      "     0     0 2710554.74    0   42 2711642.25 2710554.74  0.04%     -    3s\n",
      "     0     0 2710559.69    0   45 2711642.25 2710559.69  0.04%     -    3s\n",
      "     0     0 2710567.44    0   44 2711642.25 2710567.44  0.04%     -    3s\n",
      "     0     0 2710569.92    0   45 2711642.25 2710569.92  0.04%     -    3s\n",
      "     0     0 2710686.21    0   44 2711642.25 2710686.21  0.04%     -    3s\n",
      "     0     0 2710711.42    0   45 2711642.25 2710711.42  0.03%     -    3s\n",
      "     0     0 2710720.03    0   47 2711642.25 2710720.03  0.03%     -    3s\n",
      "     0     0 2710721.18    0   44 2711642.25 2710721.18  0.03%     -    3s\n",
      "     0     0 2710732.73    0   47 2711642.25 2710732.73  0.03%     -    3s\n",
      "     0     0 2710732.73    0   47 2711642.25 2710732.73  0.03%     -    3s\n",
      "     0     0 2710836.94    0    9 2711642.25 2710836.94  0.03%     -    3s\n",
      "     0     0 2710836.94    0   18 2711642.25 2710836.94  0.03%     -    3s\n",
      "     0     0 2710836.94    0   24 2711642.25 2710836.94  0.03%     -    3s\n",
      "     0     0 2710836.94    0   30 2711642.25 2710836.94  0.03%     -    3s\n",
      "     0     0 2710836.94    0   35 2711642.25 2710836.94  0.03%     -    3s\n",
      "     0     0 2710836.94    0   37 2711642.25 2710836.94  0.03%     -    3s\n",
      "     0     0 2710836.94    0   39 2711642.25 2710836.94  0.03%     -    3s\n",
      "     0     0 2710836.94    0   44 2711642.25 2710836.94  0.03%     -    3s\n",
      "     0     0 2710836.94    0   44 2711642.25 2710836.94  0.03%     -    3s\n",
      "     0     0 2710836.94    0   47 2711642.25 2710836.94  0.03%     -    3s\n",
      "     0     0 2710836.94    0   44 2711642.25 2710836.94  0.03%     -    3s\n",
      "     0     0 2710836.94    0   47 2711642.25 2710836.94  0.03%     -    3s\n",
      "     0     0 2710836.94    0   47 2711642.25 2710836.94  0.03%     -    3s\n",
      "     0     0 2710836.94    0   48 2711642.25 2710836.94  0.03%     -    3s\n",
      "     0     0 2710836.94    0   39 2711642.25 2710836.94  0.03%     -    3s\n",
      "     0     0 2710846.64    0   45 2711642.25 2710846.64  0.03%     -    3s\n",
      "     0     0 2710849.55    0   48 2711642.25 2710849.55  0.03%     -    3s\n",
      "     0     0 2710849.55    0   48 2711642.25 2710849.55  0.03%     -    3s\n",
      "     0     2 2710975.25    0   48 2711642.25 2710975.25  0.02%     -    3s\n",
      "*  440   135              12    2711491.1570 2711230.83  0.01%   7.0    3s\n",
      "\n",
      "Cutting planes:\n",
      "  Gomory: 2\n",
      "  Cover: 7\n",
      "  MIR: 38\n",
      "  StrongCG: 8\n",
      "  RLT: 1\n",
      "\n",
      "Explored 780 nodes (10634 simplex iterations) in 3.37 seconds\n",
      "Thread count was 8 (of 8 available processors)\n",
      "\n",
      "Solution count 10: 2.71149e+06 2.71164e+06 2.7121e+06 ... 8.68909e+06\n",
      "\n",
      "Optimal solution found (tolerance 1.00e-04)\n",
      "Best objective 2.711491157015e+06, best bound 2.711367438356e+06, gap 0.0046%\n"
     ]
    }
   ],
   "source": [
    "m.optimize()"
   ]
  },
  {
   "cell_type": "code",
   "execution_count": 11,
   "metadata": {
    "ExecuteTime": {
     "end_time": "2020-12-05T16:01:52.805757Z",
     "start_time": "2020-12-05T16:01:52.802393Z"
    }
   },
   "outputs": [
    {
     "name": "stdout",
     "output_type": "stream",
     "text": [
      "2711491.157015197\n"
     ]
    }
   ],
   "source": [
    "print(m.objVal)"
   ]
  },
  {
   "cell_type": "code",
   "execution_count": 12,
   "metadata": {
    "ExecuteTime": {
     "end_time": "2020-12-05T16:01:52.916520Z",
     "start_time": "2020-12-05T16:01:52.808920Z"
    }
   },
   "outputs": [],
   "source": [
    "# New Optimization Model\n",
    "# Minimax Problem\n",
    "\n",
    "# new optimization model\n",
    "m1 = Model(\"MiniMax\")\n",
    "\n",
    "# pods\n",
    "x1 = m1.addVars(n_pods, vtype = GRB.BINARY) # same as x_j (whether a pod is built on site j)\n",
    "\n",
    "# tracts\n",
    "y1 = m1.addVars(n_tracts, n_pods, vtype=GRB.BINARY) # same as y_ij (whether a residential area\n",
    "                                                    # i is assigned to site j)"
   ]
  },
  {
   "cell_type": "code",
   "execution_count": 13,
   "metadata": {
    "ExecuteTime": {
     "end_time": "2020-12-05T16:01:52.923108Z",
     "start_time": "2020-12-05T16:01:52.919143Z"
    }
   },
   "outputs": [],
   "source": [
    "# max distance\n",
    "maxDistance = m1.addVars(1,1, lb = 0.0) # a new decision variable to pick the maximum distance\n",
    "                                        # between the tract (residential area) to pods\n",
    "\n",
    "m1.setObjective(maxDistance[0,0])\n",
    "m1.modelSense = GRB.MINIMIZE"
   ]
  },
  {
   "cell_type": "code",
   "execution_count": 14,
   "metadata": {
    "ExecuteTime": {
     "end_time": "2020-12-05T16:01:54.708940Z",
     "start_time": "2020-12-05T16:01:52.926574Z"
    }
   },
   "outputs": [],
   "source": [
    "# Constraints\n",
    "\n",
    "# number of total sites that we could build\n",
    "m1.addConstr(sum(x1[j] for j in n_pods) <= P) \n",
    "\n",
    "# capacity constraints\n",
    "for j in n_pods:\n",
    "    m1.addConstr(sum(residents[i] * y1[i,j] for i in n_tracts) <= 30 * 2 * capacity[j] * x1[j]) \n",
    "\n",
    "# a residential can have at most one shelter\n",
    "for i in n_tracts:\n",
    "    m1.addConstr(sum(y1[i,j] for j in n_pods) == 1) \n",
    "\n",
    "# all residential areas must be met\n",
    "m1.addConstr(sum(sum(y1[i,j] for j in n_pods) for i in n_tracts) >= len(residents)) \n",
    "\n",
    "# a tract can only be assigned to a pod that as been built\n",
    "for i in n_tracts:\n",
    "    for j in n_pods:\n",
    "        m1.addConstr(x1[j] - y1[i,j] >= 0)\n",
    "\n",
    "# the distance to shelter must be less than or equal to the maximum distance\n",
    "for j in n_pods:\n",
    "    for i in n_tracts:\n",
    "        m1.addConstr(dists[i,j] * y1[i,j] <= maxDistance[0,0])\n"
   ]
  },
  {
   "cell_type": "code",
   "execution_count": 15,
   "metadata": {
    "ExecuteTime": {
     "end_time": "2020-12-05T16:04:42.100809Z",
     "start_time": "2020-12-05T16:01:54.710510Z"
    }
   },
   "outputs": [
    {
     "name": "stdout",
     "output_type": "stream",
     "text": [
      "Gurobi Optimizer version 9.1.0 build v9.1.0rc0 (mac64)\n",
      "Thread count: 4 physical cores, 8 logical processors, using up to 8 threads\n",
      "Optimize a model with 38239 rows, 18942 columns and 132117 nonzeros\n",
      "Model fingerprint: 0x472afc4b\n",
      "Variable types: 1 continuous, 18941 integer (18941 binary)\n",
      "Coefficient statistics:\n",
      "  Matrix range     [2e-02, 2e+05]\n",
      "  Objective range  [1e+00, 1e+00]\n",
      "  Bounds range     [1e+00, 1e+00]\n",
      "  RHS range        [1e+00, 4e+02]\n",
      "Presolve removed 549 rows and 0 columns\n",
      "Presolve time: 0.43s\n",
      "Presolved: 37690 rows, 18942 columns, 112172 nonzeros\n",
      "Variable types: 1 continuous, 18941 integer (18941 binary)\n",
      "Found heuristic solution: objective 23.0760613\n",
      "\n",
      "Deterministic concurrent LP optimizer: primal and dual simplex\n",
      "Showing first log only...\n",
      "\n",
      "\n",
      "Root simplex log...\n",
      "\n",
      "Iteration    Objective       Primal Inf.    Dual Inf.      Time\n",
      "   14877    2.2071251e+00   0.000000e+00   1.380942e+01      5s\n",
      "   15110    2.1152501e+00   0.000000e+00   0.000000e+00      5s\n",
      "   15110    2.1152501e+00   0.000000e+00   0.000000e+00      5s\n",
      "Concurrent spin time: 2.44s\n",
      "\n",
      "Solved with primal simplex\n",
      "\n",
      "Root relaxation: objective 2.115250e+00, 15110 iterations, 7.16 seconds\n",
      "Total elapsed time = 10.04s\n",
      "\n",
      "    Nodes    |    Current Node    |     Objective Bounds      |     Work\n",
      " Expl Unexpl |  Obj  Depth IntInf | Incumbent    BestBd   Gap | It/Node Time\n",
      "\n",
      "     0     0    2.11525    0 1105   23.07606    2.11525  90.8%     -   13s\n",
      "H    0     0                      21.9025616    2.11525  90.3%     -   13s\n",
      "H    0     0                      20.4180303    2.11525  89.6%     -   13s\n",
      "H    0     0                      14.3122766    2.11525  85.2%     -   13s\n",
      "H    0     0                      13.5008761    2.11525  84.3%     -   18s\n",
      "H    0     0                      12.9516341    2.11525  83.7%     -   18s\n",
      "H    0     0                      12.8977225    2.11525  83.6%     -   18s\n",
      "H    0     0                      10.0249018    2.11525  78.9%     -   18s\n",
      "     0     0    2.11525    0  748   10.02490    2.11525  78.9%     -   23s\n",
      "     0     0    2.97490    0  864   10.02490    2.97490  70.3%     -   30s\n",
      "H    0     0                      10.0226130    2.97490  70.3%     -   30s\n",
      "H    0     0                      10.0219617    2.97490  70.3%     -   33s\n",
      "H    0     0                       7.7376103    2.97490  61.6%     -   33s\n",
      "     0     0    4.14770    0  667    7.73761    4.14770  46.4%     -   34s\n",
      "H    0     0                       7.5761529    4.14770  45.3%     -   34s\n",
      "H    0     0                       7.2198038    4.14770  42.6%     -   34s\n",
      "H    0     0                       7.1324931    4.14770  41.8%     -   35s\n",
      "     0     0    4.78019    0  393    7.13249    4.78019  33.0%     -   35s\n",
      "     0     0    4.78019    0  346    7.13249    4.78019  33.0%     -   35s\n",
      "     0     0    4.78019    0  102    7.13249    4.78019  33.0%     -   37s\n",
      "     0     0    4.78019    0  422    7.13249    4.78019  33.0%     -   39s\n",
      "H    0     0                       7.0776193    4.78019  32.5%     -   40s\n",
      "H    0     0                       7.0754404    4.78019  32.4%     -   40s\n",
      "H    0     0                       6.8124703    4.78019  29.8%     -   40s\n",
      "     0     0    4.78019    0  428    6.81247    4.78019  29.8%     -   40s\n",
      "H    0     0                       6.7745005    4.78019  29.4%     -   40s\n",
      "H    0     0                       5.8152774    4.78019  17.8%     -   40s\n",
      "     0     0    4.78019    0  443    5.81528    4.78019  17.8%     -   40s\n",
      "     0     0    4.78019    0   95    5.81528    4.78019  17.8%     -   42s\n",
      "     0     0    4.78019    0  124    5.81528    4.78019  17.8%     -   43s\n",
      "H    0     0                       5.6978162    4.78019  16.1%     -   43s\n",
      "     0     0    4.78019    0  139    5.69782    4.78019  16.1%     -   43s\n",
      "     0     0    4.78019    0  139    5.69782    4.78019  16.1%     -   43s\n",
      "     0     0    4.78089    0  160    5.69782    4.78089  16.1%     -   44s\n",
      "     0     0    4.78090    0  193    5.69782    4.78090  16.1%     -   44s\n",
      "     0     0    4.78100    0  189    5.69782    4.78100  16.1%     -   45s\n",
      "     0     0    4.78107    0  196    5.69782    4.78107  16.1%     -   45s\n",
      "     0     0    4.78111    0  139    5.69782    4.78111  16.1%     -   46s\n",
      "H    0     0                       5.6801204    4.78111  15.8%     -   46s\n",
      "     0     0    4.78111    0  135    5.68012    4.78111  15.8%     -   46s\n",
      "     0     0    4.78111    0  142    5.68012    4.78111  15.8%     -   46s\n",
      "     0     0    4.78111    0  142    5.68012    4.78111  15.8%     -   47s\n",
      "H    0     0                       5.4185819    4.78111  11.8%     -   47s\n",
      "H    0     0                       5.2572710    4.78111  9.06%     -   47s\n",
      "H    0     0                       5.2274182    4.78111  8.54%     -   47s\n",
      "     0     0    4.78111    0  144    5.22742    4.78111  8.54%     -   48s\n",
      "     0     0    4.78111    0  158    5.22742    4.78111  8.54%     -   49s\n",
      "     0     0    4.78111    0  160    5.22742    4.78111  8.54%     -   49s\n",
      "     0     0    4.78175    0  150    5.22742    4.78175  8.53%     -   49s\n",
      "     0     0    4.78175    0  164    5.22742    4.78175  8.53%     -   49s\n",
      "     0     0    4.78181    0  144    5.22742    4.78181  8.52%     -   49s\n",
      "     0     0    4.78181    0  146    5.22742    4.78181  8.52%     -   49s\n",
      "     0     0    4.78385    0  140    5.22742    4.78385  8.49%     -   50s\n",
      "H    0     0                       5.2003675    4.78385  8.01%     -   50s\n",
      "     0     0    4.78574    0  145    5.20037    4.78574  7.97%     -   50s\n",
      "H    0     0                       4.9512235    4.78694  3.32%     -   50s\n",
      "H    0     0                       4.9199718    4.78694  2.70%     -   50s\n",
      "H    0     0                       4.9120277    4.78694  2.55%     -   50s\n",
      "     0     0    4.78694    0  147    4.91203    4.78694  2.55%     -   50s\n",
      "     0     0    4.78984    0  147    4.91203    4.78984  2.49%     -   50s\n",
      "H    0     0                       4.8606938    4.78984  1.46%     -   50s\n",
      "     0     0    4.78984    0  144    4.86069    4.78984  1.46%     -   51s\n",
      "     0     0    4.78984    0  200    4.86069    4.78984  1.46%     -   51s\n",
      "     0     0    4.78984    0  187    4.86069    4.78984  1.46%     -   51s\n",
      "     0     0    4.82523    0  120    4.86069    4.82523  0.73%     -   52s\n",
      "     0     0    4.82523    0  275    4.86069    4.82523  0.73%     -   52s\n",
      "     0     0    4.82523    0  144    4.86069    4.82523  0.73%     -   52s\n",
      "     0     0    4.82523    0  286    4.86069    4.82523  0.73%     -   53s\n",
      "     0     0    4.82523    0  287    4.86069    4.82523  0.73%     -   53s\n",
      "     0     0    4.82523    0  210    4.86069    4.82523  0.73%     -   53s\n",
      "     0     0    4.82523    0  207    4.86069    4.82523  0.73%     -   53s\n",
      "     0     0    4.82523    0  222    4.86069    4.82523  0.73%     -   53s\n",
      "     0     0    4.82523    0  218    4.86069    4.82523  0.73%     -   53s\n",
      "     0     0    4.82523    0  185    4.86069    4.82523  0.73%     -   53s\n",
      "     0     0    4.82523    0  112    4.86069    4.82523  0.73%     -   53s\n",
      "     0     0    4.82523    0   23    4.86069    4.82523  0.73%     -   53s\n",
      "     0     0    4.82523    0   17    4.86069    4.82523  0.73%     -   53s\n",
      "     0     0    4.82523    0   25    4.86069    4.82523  0.73%     -   53s\n",
      "     0     0    4.82523    0   25    4.86069    4.82523  0.73%     -   53s\n",
      "     0     0    4.82523    0   16    4.86069    4.82523  0.73%     -   53s\n",
      "     0     0    4.82523    0   19    4.86069    4.82523  0.73%     -   53s\n",
      "     0     0    4.82523    0   17    4.86069    4.82523  0.73%     -   53s\n",
      "     0     0    4.82523    0   17    4.86069    4.82523  0.73%     -   53s\n",
      "     0     2    4.82523    0   16    4.86069    4.82523  0.73%     -   53s\n",
      "  6023  5517    4.82523  208   18    4.86069    4.82523  0.73%  32.4   55s\n",
      " 31010 12460    4.82966  300   18    4.86069    4.82523  0.73%  11.1   60s\n",
      " 68802 18854    4.84733  304   18    4.86069    4.82523  0.73%   7.8   65s\n",
      " 113040 26276 infeasible  318         4.86069    4.82523  0.73%   6.7   70s\n",
      " 160282 42371 infeasible  305         4.86069    4.82523  0.73%   6.2   75s\n",
      " 203357 55869    4.82877  336   25    4.86069    4.82523  0.73%   6.2   80s\n",
      " 243636 62627    4.82523  328   14    4.86069    4.82523  0.73%   6.2   85s\n",
      " 278537 67837 infeasible  328         4.86069    4.82523  0.73%   6.1   90s\n"
     ]
    },
    {
     "name": "stdout",
     "output_type": "stream",
     "text": [
      " 320705 74747 infeasible  339         4.86069    4.82523  0.73%   6.1   95s\n",
      " 364246 83360    4.83361  338   19    4.86069    4.82523  0.73%   5.9  100s\n",
      " 410453 91796    4.82523  318   14    4.86069    4.82523  0.73%   5.9  105s\n",
      " 455239 100496    4.82523  324   14    4.86069    4.82523  0.73%   5.9  110s\n",
      " 490006 107301 infeasible  323         4.86069    4.82523  0.73%   5.9  115s\n",
      " 534978 116027    4.82523  297   12    4.86069    4.82523  0.73%   5.9  120s\n",
      " 573468 122253    4.82523  290   12    4.86069    4.82523  0.73%   5.9  125s\n",
      " 611667 128895 infeasible  322         4.86069    4.82523  0.73%   5.9  130s\n",
      " 640946 133566 infeasible  330         4.86069    4.82523  0.73%   5.9  135s\n",
      " 675040 140547    4.82523  331   16    4.86069    4.82523  0.73%   5.9  140s\n",
      " 714180 146338    4.84649  301   17    4.86069    4.82523  0.73%   6.0  145s\n",
      " 750395 153417    4.83186  331   14    4.86069    4.82523  0.73%   5.9  150s\n",
      " 791095 159098    4.82523  328   14    4.86069    4.82523  0.73%   5.9  155s\n",
      " 834310 165841 infeasible  344         4.86069    4.82523  0.73%   5.9  160s\n",
      "*852662 72522             362       4.8464942    4.82523  0.44%   5.9  163s\n",
      " 863006 72350    4.82523   37   16    4.84649    4.82523  0.44%   5.9  165s\n",
      "*874181 71439             234       4.8323949    4.82523  0.15%   5.9  166s\n",
      "*875521 67638             238       4.8286390    4.82523  0.07%   5.9  167s\n",
      "*875622 58593             236       4.8252266    4.82523  0.00%   5.9  167s\n",
      "\n",
      "Cutting planes:\n",
      "  Gomory: 2\n",
      "  Cover: 3\n",
      "  MIR: 2\n",
      "  StrongCG: 4\n",
      "  Flow cover: 2\n",
      "  RLT: 2\n",
      "\n",
      "Explored 877088 nodes (5227694 simplex iterations) in 167.35 seconds\n",
      "Thread count was 8 (of 8 available processors)\n",
      "\n",
      "Solution count 10: 4.82523 4.82864 4.83239 ... 4.95122\n",
      "\n",
      "Optimal solution found (tolerance 1.00e-04)\n",
      "Best objective 4.825226622000e+00, best bound 4.825226622000e+00, gap 0.0000%\n"
     ]
    }
   ],
   "source": [
    "m1.optimize()"
   ]
  },
  {
   "cell_type": "code",
   "execution_count": 16,
   "metadata": {
    "ExecuteTime": {
     "end_time": "2020-12-05T16:04:42.109723Z",
     "start_time": "2020-12-05T16:04:42.105433Z"
    }
   },
   "outputs": [
    {
     "name": "stdout",
     "output_type": "stream",
     "text": [
      "4.825226622\n"
     ]
    }
   ],
   "source": [
    "print(m1.objVal)"
   ]
  },
  {
   "cell_type": "markdown",
   "metadata": {},
   "source": [
    "## Visualization of Tracts  Assignment to Pods"
   ]
  },
  {
   "cell_type": "code",
   "execution_count": 31,
   "metadata": {
    "ExecuteTime": {
     "end_time": "2020-12-05T16:10:28.314985Z",
     "start_time": "2020-12-05T16:10:28.230923Z"
    }
   },
   "outputs": [],
   "source": [
    "DistanceToSite = [] # list of all the distances between the tracts and their assigned pods\n",
    "residenceSitePair = [] # tracts and pods pair\n",
    "\n",
    "for i in n_tracts:\n",
    "    for j in n_pods:\n",
    "        if y[i,j].x == 1:\n",
    "            residenceSitePair.append((i,j))\n",
    "\n",
    "for a, b in residenceSitePair:\n",
    "    # distance = abs(tracts[a][0] - pods[b][0]) + abs(tracts[a][1] - pods[b][1]) # grid distance\n",
    "    distance = np.sqrt((tracts[a][0] - pods[b][0]) ** 2 + abs(tracts[a][1] - pods[b][1]) ** 2) # eucledian distance\n",
    "    DistanceToSite.append(distance)"
   ]
  },
  {
   "cell_type": "code",
   "execution_count": 32,
   "metadata": {
    "ExecuteTime": {
     "end_time": "2020-12-05T16:10:28.814397Z",
     "start_time": "2020-12-05T16:10:28.572341Z"
    }
   },
   "outputs": [
    {
     "data": {
      "image/png": "[encoded data removed]",
      "text/plain": [
       "<Figure size 432x288 with 1 Axes>"
      ]
     },
     "metadata": {
      "needs_background": "light"
     },
     "output_type": "display_data"
    }
   ],
   "source": [
    "# plotting histogram\n",
    "\n",
    "plt.hist(DistanceToSite)\n",
    "\n",
    "plt.title(\"Tracts to Pods Distance\")\n",
    "plt.xlabel(\"Distance to Tracts (in miles)\")\n",
    "plt.ylabel(\"# of Tracts\")\n",
    "\n",
    "plt.show()"
   ]
  },
  {
   "cell_type": "code",
   "execution_count": 36,
   "metadata": {
    "ExecuteTime": {
     "end_time": "2020-12-05T16:11:21.603855Z",
     "start_time": "2020-12-05T16:11:21.542233Z"
    }
   },
   "outputs": [],
   "source": [
    "# same setup as before but for for the minimax model this time\n",
    "\n",
    "DistanceToSite1 = []\n",
    "residenceSitePair1 = []\n",
    "\n",
    "for i in n_tracts:\n",
    "    for j in n_pods:\n",
    "        if y1[i,j].x == 1:\n",
    "            residenceSitePair1.append((i,j))\n",
    "\n",
    "for a, b in residenceSitePair1:\n",
    "    # distance1 = abs(tracts[a][0] - pods[b][0]) + abs(tracts[a][1] - pods[b][1]) # grid distance\n",
    "    distance1 = np.sqrt((tracts[a][0] - pods[b][0]) ** 2 + abs(tracts[a][1] - pods[b][1]) ** 2) # eucledian distance\n",
    "    DistanceToSite1.append(distance1)"
   ]
  },
  {
   "cell_type": "code",
   "execution_count": 37,
   "metadata": {
    "ExecuteTime": {
     "end_time": "2020-12-05T16:11:22.207373Z",
     "start_time": "2020-12-05T16:11:22.006766Z"
    }
   },
   "outputs": [
    {
     "data": {
      "image/png": "[encoded data removed]",
      "text/plain": [
       "<Figure size 432x288 with 1 Axes>"
      ]
     },
     "metadata": {
      "needs_background": "light"
     },
     "output_type": "display_data"
    }
   ],
   "source": [
    "# plotting histogram\n",
    "\n",
    "plt.hist(DistanceToSite1)\n",
    "\n",
    "plt.title(\"Tracts to Pods Distance (after minimizing maximum distance)\")\n",
    "plt.xlabel(\"Distance to Tracts (in miles)\")\n",
    "plt.ylabel(\"# of Tracts\")\n",
    "\n",
    "plt.show()"
   ]
  }
 ],
 "metadata": {
  "hide_input": false,
  "kernelspec": {
   "display_name": "Python 3",
   "language": "python",
   "name": "python3"
  },
  "language_info": {
   "codemirror_mode": {
    "name": "ipython",
    "version": 3
   },
   "file_extension": ".py",
   "mimetype": "text/x-python",
   "name": "python",
   "nbconvert_exporter": "python",
   "pygments_lexer": "ipython3",
   "version": "3.7.6"
  },
  "latex_envs": {
   "LaTeX_envs_menu_present": true,
   "autoclose": false,
   "autocomplete": true,
   "bibliofile": "biblio.bib",
   "cite_by": "apalike",
   "current_citInitial": 1,
   "eqLabelWithNumbers": true,
   "eqNumInitial": 1,
   "hotkeys": {
    "equation": "Ctrl-E",
    "itemize": "Ctrl-I"
   },
   "labels_anchors": false,
   "latex_user_defs": false,
   "report_style_numbering": false,
   "user_envs_cfg": false
  },
  "toc": {
   "base_numbering": 1,
   "nav_menu": {},
   "number_sections": true,
   "sideBar": true,
   "skip_h1_title": false,
   "title_cell": "Table of Contents",
   "title_sidebar": "Contents",
   "toc_cell": false,
   "toc_position": {},
   "toc_section_display": true,
   "toc_window_display": false
  },
  "varInspector": {
   "cols": {
    "lenName": 16,
    "lenType": 16,
    "lenVar": 40
   },
   "kernels_config": {
    "python": {
     "delete_cmd_postfix": "",
     "delete_cmd_prefix": "del ",
     "library": "var_list.py",
     "varRefreshCmd": "print(var_dic_list())"
    },
    "r": {
     "delete_cmd_postfix": ") ",
     "delete_cmd_prefix": "rm(",
     "library": "var_list.r",
     "varRefreshCmd": "cat(var_dic_list()) "
    }
   },
   "types_to_exclude": [
    "module",
    "function",
    "builtin_function_or_method",
    "instance",
    "_Feature"
   ],
   "window_display": false
  }
 },
 "nbformat": 4,
 "nbformat_minor": 2
}
